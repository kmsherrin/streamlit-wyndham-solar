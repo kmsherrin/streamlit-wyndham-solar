{
 "cells": [
  {
   "cell_type": "code",
   "execution_count": 1,
   "metadata": {},
   "outputs": [],
   "source": [
    "import pandas as pd"
   ]
  },
  {
   "cell_type": "code",
   "execution_count": 2,
   "metadata": {},
   "outputs": [],
   "source": [
    "df = pd.read_json('data/wyndham-solar-energy-production.json', orient='records')"
   ]
  },
  {
   "cell_type": "markdown",
   "metadata": {},
   "source": [
    "This hasnt exactly read in the JSON file very nicely... Will have to work with it though"
   ]
  },
  {
   "cell_type": "code",
   "execution_count": 3,
   "metadata": {},
   "outputs": [
    {
     "data": {
      "text/html": [
       "<div>\n",
       "<style scoped>\n",
       "    .dataframe tbody tr th:only-of-type {\n",
       "        vertical-align: middle;\n",
       "    }\n",
       "\n",
       "    .dataframe tbody tr th {\n",
       "        vertical-align: top;\n",
       "    }\n",
       "\n",
       "    .dataframe thead th {\n",
       "        text-align: right;\n",
       "    }\n",
       "</style>\n",
       "<table border=\"1\" class=\"dataframe\">\n",
       "  <thead>\n",
       "    <tr style=\"text-align: right;\">\n",
       "      <th></th>\n",
       "      <th>type</th>\n",
       "      <th>name</th>\n",
       "      <th>features</th>\n",
       "    </tr>\n",
       "  </thead>\n",
       "  <tbody>\n",
       "    <tr>\n",
       "      <th>0</th>\n",
       "      <td>FeatureCollection</td>\n",
       "      <td>wyndham-solar-energy-production.json</td>\n",
       "      <td>{'type': 'Feature', 'geometry': None, 'propert...</td>\n",
       "    </tr>\n",
       "    <tr>\n",
       "      <th>1</th>\n",
       "      <td>FeatureCollection</td>\n",
       "      <td>wyndham-solar-energy-production.json</td>\n",
       "      <td>{'type': 'Feature', 'geometry': None, 'propert...</td>\n",
       "    </tr>\n",
       "    <tr>\n",
       "      <th>2</th>\n",
       "      <td>FeatureCollection</td>\n",
       "      <td>wyndham-solar-energy-production.json</td>\n",
       "      <td>{'type': 'Feature', 'geometry': None, 'propert...</td>\n",
       "    </tr>\n",
       "    <tr>\n",
       "      <th>3</th>\n",
       "      <td>FeatureCollection</td>\n",
       "      <td>wyndham-solar-energy-production.json</td>\n",
       "      <td>{'type': 'Feature', 'geometry': None, 'propert...</td>\n",
       "    </tr>\n",
       "    <tr>\n",
       "      <th>4</th>\n",
       "      <td>FeatureCollection</td>\n",
       "      <td>wyndham-solar-energy-production.json</td>\n",
       "      <td>{'type': 'Feature', 'geometry': None, 'propert...</td>\n",
       "    </tr>\n",
       "  </tbody>\n",
       "</table>\n",
       "</div>"
      ],
      "text/plain": [
       "                type                                  name  \\\n",
       "0  FeatureCollection  wyndham-solar-energy-production.json   \n",
       "1  FeatureCollection  wyndham-solar-energy-production.json   \n",
       "2  FeatureCollection  wyndham-solar-energy-production.json   \n",
       "3  FeatureCollection  wyndham-solar-energy-production.json   \n",
       "4  FeatureCollection  wyndham-solar-energy-production.json   \n",
       "\n",
       "                                            features  \n",
       "0  {'type': 'Feature', 'geometry': None, 'propert...  \n",
       "1  {'type': 'Feature', 'geometry': None, 'propert...  \n",
       "2  {'type': 'Feature', 'geometry': None, 'propert...  \n",
       "3  {'type': 'Feature', 'geometry': None, 'propert...  \n",
       "4  {'type': 'Feature', 'geometry': None, 'propert...  "
      ]
     },
     "execution_count": 3,
     "metadata": {},
     "output_type": "execute_result"
    }
   ],
   "source": [
    "df.head()"
   ]
  },
  {
   "cell_type": "markdown",
   "metadata": {},
   "source": [
    "This lists the different properties of the site data"
   ]
  },
  {
   "cell_type": "code",
   "execution_count": 4,
   "metadata": {},
   "outputs": [
    {
     "data": {
      "text/plain": [
       "{'system_id': '9386741',\n",
       " 'system_name': 'Yerambooee Community Centre  ',\n",
       " 'date_stamp': '2018-08-01',\n",
       " 'energy_prod(KWh)': 51.5,\n",
       " 'energy_life(MWh)': None,\n",
       " 'C02 (Kg)': 47.41,\n",
       " 'KWp': 18.2,\n",
       " 'performance': 2.8,\n",
       " 'lat': -37.8587717,\n",
       " 'lon': 144.7100923,\n",
       " 'date_installed': '2017-07-27'}"
      ]
     },
     "execution_count": 4,
     "metadata": {},
     "output_type": "execute_result"
    }
   ],
   "source": [
    "df.iloc[0]['features']['properties']"
   ]
  },
  {
   "cell_type": "markdown",
   "metadata": {},
   "source": [
    "I am only interested in the data that is held within the properties key. I will have to iterate into each row and pull this data out and place it into a new dataframe"
   ]
  },
  {
   "cell_type": "code",
   "execution_count": 5,
   "metadata": {
    "scrolled": true
   },
   "outputs": [],
   "source": [
    "new_df = pd.DataFrame()\n",
    "sites = []\n",
    "for i, x in df.iterrows():\n",
    "    sites.append(x['features']['properties']['system_name'])\n",
    "    temp_df = pd.DataFrame(x['features']['properties'], index=[0])\n",
    "    new_df = new_df.append(temp_df)\n",
    "sites = set(sites)"
   ]
  },
  {
   "cell_type": "markdown",
   "metadata": {},
   "source": [
    "Have a look at the newly constructed df"
   ]
  },
  {
   "cell_type": "code",
   "execution_count": 6,
   "metadata": {
    "scrolled": true
   },
   "outputs": [
    {
     "data": {
      "text/html": [
       "<div>\n",
       "<style scoped>\n",
       "    .dataframe tbody tr th:only-of-type {\n",
       "        vertical-align: middle;\n",
       "    }\n",
       "\n",
       "    .dataframe tbody tr th {\n",
       "        vertical-align: top;\n",
       "    }\n",
       "\n",
       "    .dataframe thead th {\n",
       "        text-align: right;\n",
       "    }\n",
       "</style>\n",
       "<table border=\"1\" class=\"dataframe\">\n",
       "  <thead>\n",
       "    <tr style=\"text-align: right;\">\n",
       "      <th></th>\n",
       "      <th>system_id</th>\n",
       "      <th>system_name</th>\n",
       "      <th>date_stamp</th>\n",
       "      <th>energy_prod(KWh)</th>\n",
       "      <th>energy_life(MWh)</th>\n",
       "      <th>C02 (Kg)</th>\n",
       "      <th>KWp</th>\n",
       "      <th>performance</th>\n",
       "      <th>lat</th>\n",
       "      <th>lon</th>\n",
       "      <th>date_installed</th>\n",
       "    </tr>\n",
       "  </thead>\n",
       "  <tbody>\n",
       "    <tr>\n",
       "      <th>0</th>\n",
       "      <td>9386741</td>\n",
       "      <td>Yerambooee Community Centre</td>\n",
       "      <td>2018-08-01</td>\n",
       "      <td>51.5</td>\n",
       "      <td>None</td>\n",
       "      <td>47.41</td>\n",
       "      <td>18.2</td>\n",
       "      <td>2.8</td>\n",
       "      <td>-37.858772</td>\n",
       "      <td>144.710092</td>\n",
       "      <td>2017-07-27</td>\n",
       "    </tr>\n",
       "    <tr>\n",
       "      <th>0</th>\n",
       "      <td>1888434222</td>\n",
       "      <td>Iramoo Community Centre</td>\n",
       "      <td>2018-08-01</td>\n",
       "      <td>97.7</td>\n",
       "      <td>None</td>\n",
       "      <td>89.84</td>\n",
       "      <td>35.2</td>\n",
       "      <td>2.8</td>\n",
       "      <td>-37.898326</td>\n",
       "      <td>144.622718</td>\n",
       "      <td>2017-10-27</td>\n",
       "    </tr>\n",
       "    <tr>\n",
       "      <th>0</th>\n",
       "      <td>9387235</td>\n",
       "      <td>Wayaperri House</td>\n",
       "      <td>2018-08-01</td>\n",
       "      <td>56.5</td>\n",
       "      <td>None</td>\n",
       "      <td>51.96</td>\n",
       "      <td>17.9</td>\n",
       "      <td>3.2</td>\n",
       "      <td>-37.905608</td>\n",
       "      <td>144.668118</td>\n",
       "      <td>2017-07-27</td>\n",
       "    </tr>\n",
       "    <tr>\n",
       "      <th>0</th>\n",
       "      <td>9386741</td>\n",
       "      <td>Yerambooee Community Centre</td>\n",
       "      <td>2018-08-02</td>\n",
       "      <td>58.1</td>\n",
       "      <td>None</td>\n",
       "      <td>53.42</td>\n",
       "      <td>18.2</td>\n",
       "      <td>3.2</td>\n",
       "      <td>-37.858772</td>\n",
       "      <td>144.710092</td>\n",
       "      <td>2017-07-27</td>\n",
       "    </tr>\n",
       "    <tr>\n",
       "      <th>0</th>\n",
       "      <td>1888434222</td>\n",
       "      <td>Iramoo Community Centre</td>\n",
       "      <td>2018-08-02</td>\n",
       "      <td>112.0</td>\n",
       "      <td>None</td>\n",
       "      <td>103.01</td>\n",
       "      <td>35.2</td>\n",
       "      <td>3.2</td>\n",
       "      <td>-37.898326</td>\n",
       "      <td>144.622718</td>\n",
       "      <td>2017-10-27</td>\n",
       "    </tr>\n",
       "  </tbody>\n",
       "</table>\n",
       "</div>"
      ],
      "text/plain": [
       "    system_id                    system_name  date_stamp energy_prod(KWh)  \\\n",
       "0     9386741  Yerambooee Community Centre    2018-08-01             51.5   \n",
       "0  1888434222       Iramoo Community Centre   2018-08-01             97.7   \n",
       "0     9387235               Wayaperri House   2018-08-01             56.5   \n",
       "0     9386741  Yerambooee Community Centre    2018-08-02             58.1   \n",
       "0  1888434222       Iramoo Community Centre   2018-08-02            112.0   \n",
       "\n",
       "  energy_life(MWh)  C02 (Kg)   KWp performance        lat         lon  \\\n",
       "0             None     47.41  18.2         2.8 -37.858772  144.710092   \n",
       "0             None     89.84  35.2         2.8 -37.898326  144.622718   \n",
       "0             None     51.96  17.9         3.2 -37.905608  144.668118   \n",
       "0             None     53.42  18.2         3.2 -37.858772  144.710092   \n",
       "0             None    103.01  35.2         3.2 -37.898326  144.622718   \n",
       "\n",
       "  date_installed  \n",
       "0     2017-07-27  \n",
       "0     2017-10-27  \n",
       "0     2017-07-27  \n",
       "0     2017-07-27  \n",
       "0     2017-10-27  "
      ]
     },
     "execution_count": 6,
     "metadata": {},
     "output_type": "execute_result"
    }
   ],
   "source": [
    "new_df.head()"
   ]
  },
  {
   "cell_type": "markdown",
   "metadata": {},
   "source": [
    "Lets grab out a single entry for each site. I will put this into a CSV and use it for plotting the locations of the sites."
   ]
  },
  {
   "cell_type": "code",
   "execution_count": 7,
   "metadata": {},
   "outputs": [],
   "source": [
    "single_entry_site = new_df.drop_duplicates(subset=['system_name'])"
   ]
  },
  {
   "cell_type": "code",
   "execution_count": 8,
   "metadata": {},
   "outputs": [],
   "source": [
    "single_entry_site.to_csv('data/single_entry_each_site.csv')"
   ]
  },
  {
   "cell_type": "markdown",
   "metadata": {},
   "source": [
    "Now lets place each sites data into a subsetted datafame and export it to CSV for later consumption"
   ]
  },
  {
   "cell_type": "code",
   "execution_count": 9,
   "metadata": {},
   "outputs": [],
   "source": [
    "for x in set(sites):\n",
    "    site_subset = new_df.loc[new_df['system_name'] == x]\n",
    "    \n",
    "    site_name_fmt = x.replace(\" \", \"\").lower()\n",
    "    \n",
    "    site_subset.to_csv(f'data/solar_farm_subset_{site_name_fmt}.csv')"
   ]
  },
  {
   "cell_type": "code",
   "execution_count": null,
   "metadata": {},
   "outputs": [],
   "source": []
  }
 ],
 "metadata": {
  "kernelspec": {
   "display_name": "Python 3",
   "language": "python",
   "name": "python3"
  },
  "language_info": {
   "codemirror_mode": {
    "name": "ipython",
    "version": 3
   },
   "file_extension": ".py",
   "mimetype": "text/x-python",
   "name": "python",
   "nbconvert_exporter": "python",
   "pygments_lexer": "ipython3",
   "version": "3.7.6"
  }
 },
 "nbformat": 4,
 "nbformat_minor": 4
}
